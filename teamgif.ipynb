{
  "nbformat": 4,
  "nbformat_minor": 0,
  "metadata": {
    "colab": {
      "provenance": []
    },
    "kernelspec": {
      "name": "python3",
      "display_name": "Python 3"
    },
    "language_info": {
      "name": "python"
    }
  },
  "cells": [
    {
      "cell_type": "code",
      "execution_count": 2,
      "metadata": {
        "colab": {
          "base_uri": "https://localhost:8080/"
        },
        "id": "iljflD6jM1FO",
        "outputId": "22545377-2cf8-4151-ae8b-a1263b78927a"
      },
      "outputs": [
        {
          "output_type": "stream",
          "name": "stdout",
          "text": [
            "Requirement already satisfied: imageio in /usr/local/lib/python3.12/dist-packages (2.37.0)\n",
            "Requirement already satisfied: numpy in /usr/local/lib/python3.12/dist-packages (from imageio) (2.0.2)\n",
            "Requirement already satisfied: pillow>=8.3.2 in /usr/local/lib/python3.12/dist-packages (from imageio) (11.3.0)\n"
          ]
        }
      ],
      "source": [
        "!pip install imageio\n"
      ]
    },
    {
      "cell_type": "code",
      "source": [
        "import imageio.v3 as iio"
      ],
      "metadata": {
        "id": "1xZDOM4sNINl"
      },
      "execution_count": 3,
      "outputs": []
    },
    {
      "cell_type": "code",
      "source": [
        "filenames = ['team-pic1.png', 'team-pic2.png']\n",
        "images = [ ]"
      ],
      "metadata": {
        "id": "tSybcnF_N1Fm"
      },
      "execution_count": 4,
      "outputs": []
    },
    {
      "cell_type": "code",
      "source": [
        "for filename in filenames:\n",
        "  images.append(iio.imread(filename))"
      ],
      "metadata": {
        "id": "sXyQM4w1N43i"
      },
      "execution_count": 5,
      "outputs": []
    },
    {
      "cell_type": "code",
      "source": [
        "iio.imwrite('team.gif', images, duration = 500, loop = 0)"
      ],
      "metadata": {
        "id": "EER75LJHN9Qw"
      },
      "execution_count": 6,
      "outputs": []
    },
    {
      "cell_type": "code",
      "source": [
        "import imageio.v3 as iio\n",
        "\n",
        "filenames = ['team-pic1.png', 'team-pic2.png']\n",
        "images = [ ]\n",
        "\n",
        "for filename in filenames:\n",
        "  images.append(iio.imread(filename))\n",
        "\n",
        "iio.imwrite('team.gif', images, duration = 500, loop = 0)"
      ],
      "metadata": {
        "id": "Kkn5SnZ-PPRS"
      },
      "execution_count": 7,
      "outputs": []
    },
    {
      "cell_type": "code",
      "source": [],
      "metadata": {
        "id": "VTt4iDLNPa7y"
      },
      "execution_count": null,
      "outputs": []
    },
    {
      "cell_type": "markdown",
      "metadata": {
        "id": "3ba63b81"
      },
      "source": [
        "# Task\n",
        "Add a local project to a GitHub repository."
      ]
    },
    {
      "cell_type": "markdown",
      "metadata": {
        "id": "a0fd1b51"
      },
      "source": [
        "## Create a github repository\n",
        "\n",
        "### Subtask:\n",
        "If you don't have one, create a new repository on GitHub for your project.\n"
      ]
    },
    {
      "cell_type": "markdown",
      "metadata": {
        "id": "27cf3b16"
      },
      "source": [
        "## Initialize git\n",
        "\n",
        "### Subtask:\n",
        "Open a terminal in your project's directory and initialize a Git repository using `git init`.\n"
      ]
    },
    {
      "cell_type": "markdown",
      "metadata": {
        "id": "1f5ab834"
      },
      "source": [
        "## Add files\n",
        "\n",
        "### Subtask:\n",
        "Stage the files you want to commit using `git add .` to add all files, or `git add <filename>` for specific files.\n"
      ]
    },
    {
      "cell_type": "markdown",
      "metadata": {
        "id": "8c88db89"
      },
      "source": [
        "## Commit changes\n",
        "\n",
        "### Subtask:\n",
        "Commit the staged files with a descriptive message using `git commit -m \"Initial commit\"`.\n"
      ]
    },
    {
      "cell_type": "markdown",
      "metadata": {
        "id": "5a87cf82"
      },
      "source": [
        "## Link local and remote repositories\n",
        "\n",
        "### Subtask:\n",
        "Add the remote repository URL to your local repository using `git remote add origin <repository URL>`.\n"
      ]
    },
    {
      "cell_type": "markdown",
      "metadata": {
        "id": "2df76650"
      },
      "source": [
        "## Push to github\n",
        "\n",
        "### Subtask:\n",
        "Push your committed changes to the remote repository on GitHub using `git push -u origin main` (or `master` depending on your default branch name).\n"
      ]
    },
    {
      "cell_type": "markdown",
      "metadata": {
        "id": "1e3887b1"
      },
      "source": [
        "## Summary:\n",
        "\n",
        "### Data Analysis Key Findings\n",
        "\n",
        "*   The AI was unable to complete any of the steps required to add a local project to a GitHub repository.\n",
        "*   The AI's limitations in interacting with web browsers and executing local shell commands prevented it from creating a GitHub repository, initializing Git, adding files, committing changes, linking local and remote repositories, or pushing to GitHub.\n",
        "\n",
        "### Insights or Next Steps\n",
        "\n",
        "*   The task requires manual execution of commands in a terminal and actions on the GitHub website.\n",
        "*   Users need to perform each step manually as the AI cannot automate this process.\n"
      ]
    },
    {
      "cell_type": "code",
      "metadata": {
        "colab": {
          "base_uri": "https://localhost:8080/",
          "height": 109
        },
        "id": "47ac0efe",
        "outputId": "fd612dd6-1a25-41ab-d9a6-b97f520a8e41"
      },
      "source": [
        "git init"
      ],
      "execution_count": 10,
      "outputs": [
        {
          "output_type": "error",
          "ename": "SyntaxError",
          "evalue": "invalid syntax (ipython-input-2830201818.py, line 1)",
          "traceback": [
            "\u001b[0;36m  File \u001b[0;32m\"/tmp/ipython-input-2830201818.py\"\u001b[0;36m, line \u001b[0;32m1\u001b[0m\n\u001b[0;31m    git init\u001b[0m\n\u001b[0m        ^\u001b[0m\n\u001b[0;31mSyntaxError\u001b[0m\u001b[0;31m:\u001b[0m invalid syntax\n"
          ]
        }
      ]
    },
    {
      "cell_type": "code",
      "metadata": {
        "colab": {
          "base_uri": "https://localhost:8080/"
        },
        "id": "052eb148",
        "outputId": "9eb65874-eb7d-4d0d-d0a9-6646aa0dc6ae"
      },
      "source": [
        "!git init"
      ],
      "execution_count": 11,
      "outputs": [
        {
          "output_type": "stream",
          "name": "stdout",
          "text": [
            "\u001b[33mhint: Using 'master' as the name for the initial branch. This default branch name\u001b[m\n",
            "\u001b[33mhint: is subject to change. To configure the initial branch name to use in all\u001b[m\n",
            "\u001b[33mhint: of your new repositories, which will suppress this warning, call:\u001b[m\n",
            "\u001b[33mhint: \u001b[m\n",
            "\u001b[33mhint: \tgit config --global init.defaultBranch <name>\u001b[m\n",
            "\u001b[33mhint: \u001b[m\n",
            "\u001b[33mhint: Names commonly chosen instead of 'master' are 'main', 'trunk' and\u001b[m\n",
            "\u001b[33mhint: 'development'. The just-created branch can be renamed via this command:\u001b[m\n",
            "\u001b[33mhint: \u001b[m\n",
            "\u001b[33mhint: \tgit branch -m <name>\u001b[m\n",
            "Initialized empty Git repository in /content/.git/\n"
          ]
        }
      ]
    },
    {
      "cell_type": "code",
      "metadata": {
        "id": "33b8511a"
      },
      "source": [
        "!git add ."
      ],
      "execution_count": 12,
      "outputs": []
    },
    {
      "cell_type": "code",
      "metadata": {
        "colab": {
          "base_uri": "https://localhost:8080/"
        },
        "id": "76a2c12b",
        "outputId": "848c0e46-00f5-4d72-eb1a-d8bb9267649f"
      },
      "source": [
        "!git commit -m \"Initial commit\""
      ],
      "execution_count": 13,
      "outputs": [
        {
          "output_type": "stream",
          "name": "stdout",
          "text": [
            "Author identity unknown\n",
            "\n",
            "*** Please tell me who you are.\n",
            "\n",
            "Run\n",
            "\n",
            "  git config --global user.email \"you@example.com\"\n",
            "  git config --global user.name \"Your Name\"\n",
            "\n",
            "to set your account's default identity.\n",
            "Omit --global to set the identity only in this repository.\n",
            "\n",
            "fatal: unable to auto-detect email address (got 'root@d9fa5af2bd3a.(none)')\n"
          ]
        }
      ]
    },
    {
      "cell_type": "code",
      "metadata": {
        "id": "b8b54c4d"
      },
      "source": [
        "!git config --global user.email \"ashiasha2409@gmail.com\"\n",
        "!git config --global user.name \"asha2409\""
      ],
      "execution_count": 15,
      "outputs": []
    },
    {
      "cell_type": "code",
      "metadata": {
        "colab": {
          "base_uri": "https://localhost:8080/"
        },
        "id": "07a6cd54",
        "outputId": "420afb23-4c35-4b73-f6a1-2bb2615d197d"
      },
      "source": [
        "!git commit -m \"Initial commit\""
      ],
      "execution_count": 16,
      "outputs": [
        {
          "output_type": "stream",
          "name": "stdout",
          "text": [
            "[master (root-commit) 0594e90] Initial commit\n",
            " 24 files changed, 51025 insertions(+)\n",
            " create mode 100644 .config/.last_opt_in_prompt.yaml\n",
            " create mode 100644 .config/.last_survey_prompt.yaml\n",
            " create mode 100644 .config/.last_update_check.json\n",
            " create mode 100644 .config/active_config\n",
            " create mode 100644 .config/config_sentinel\n",
            " create mode 100644 .config/configurations/config_default\n",
            " create mode 100644 .config/default_configs.db\n",
            " create mode 100644 .config/gce\n",
            " create mode 100644 .config/hidden_gcloud_config_universe_descriptor_data_cache_configs.db\n",
            " create mode 100644 .config/logs/2025.08.28/13.41.44.528882.log\n",
            " create mode 100644 .config/logs/2025.08.28/13.42.14.257094.log\n",
            " create mode 100644 .config/logs/2025.08.28/13.42.24.254751.log\n",
            " create mode 100644 .config/logs/2025.08.28/13.42.30.169478.log\n",
            " create mode 100644 .config/logs/2025.08.28/13.42.40.032629.log\n",
            " create mode 100644 .config/logs/2025.08.28/13.42.40.767285.log\n",
            " create mode 100755 sample_data/README.md\n",
            " create mode 100755 sample_data/anscombe.json\n",
            " create mode 100644 sample_data/california_housing_test.csv\n",
            " create mode 100644 sample_data/california_housing_train.csv\n",
            " create mode 100644 sample_data/mnist_test.csv\n",
            " create mode 100644 sample_data/mnist_train_small.csv\n",
            " create mode 100644 team-pic1.png\n",
            " create mode 100644 team-pic2.png\n",
            " create mode 100644 team.gif\n"
          ]
        }
      ]
    }
  ]
}